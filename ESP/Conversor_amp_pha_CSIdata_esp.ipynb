{
 "cells": [
  {
   "cell_type": "markdown",
   "metadata": {},
   "source": [
    "## Extracting amplitude and phase values from CSI complex numbers"
   ]
  },
  {
   "cell_type": "markdown",
   "metadata": {},
   "source": [
    "### Using cmath library - only useful collumns"
   ]
  },
  {
   "cell_type": "code",
   "execution_count": null,
   "metadata": {},
   "outputs": [],
   "source": [
    "import pandas as pd\n",
    "import numpy as np\n",
    "import cmath\n",
    "from pathlib import Path\n",
    "\n",
    "# Configuração dos arquivos usando Path\n",
    "# Defina apenas o nome do arquivo de entrada (sem o caminho completo)\n",
    "input_filename = \"csi_data.csv\"\n",
    "output_filename = \"csi_data_processed.csv\"\n",
    "\n",
    "# Obtém o diretório atual do script\n",
    "current_dir = Path.cwd()\n",
    "\n",
    "# Cria os caminhos completos para os arquivos\n",
    "input_file = current_dir / input_filename\n",
    "output_file = current_dir / output_filename\n",
    "\n",
    "print(f\"Arquivo de entrada: {input_file}\")\n",
    "print(f\"Arquivo de saída: {output_file}\")\n",
    "print(f\"Diretório atual: {current_dir}\")\n",
    "\n",
    "# Verifica se o arquivo de entrada existe\n",
    "if not input_file.exists():\n",
    "    print(f\"ERRO: Arquivo {input_filename} não encontrado no diretório atual!\")\n",
    "    print(\"Arquivos disponíveis no diretório:\")\n",
    "    for file in current_dir.glob(\"*.csv\"):\n",
    "        print(f\"  - {file.name}\")\n",
    "    exit(1)\n",
    "else:\n",
    "    print(f\"✓ Arquivo de entrada encontrado: {input_filename}\")\n",
    "\n",
    "#Remove useless columns\n",
    "cols_to_remove = [\n",
    "    \"taget_seq\", \"taget\", \"mac\", \"rate\", \"mcs\", \"cwb\",\n",
    "    \"smoothing\", \"not_sounding\", \"aggregation\", \"stbc\", \"sgi\",\n",
    "    \"ampdu_cnt\", \"ant\", \"rx_state\", \"agc_gain\", \"fft_gain\"\n",
    "]\n",
    "\n",
    "df = pd.read_csv(input_file)\n",
    "\n",
    "#Processing CSI data\n",
    "def process_csi(row):\n",
    "    numbers = list(map(int, row.strip(\"[]\").split(',')))\n",
    "    numbers = numbers[2:]  #To ignore the first 2 values\n",
    "\n",
    "    amps, phases = [], []\n",
    "    for i in range(0, len(numbers), 2):\n",
    "        real = numbers[i]\n",
    "        imag = numbers[i + 1]\n",
    "        c = complex(real, imag)\n",
    "        amp, phase = cmath.polar(c)\n",
    "        amps.append(amp)\n",
    "        phases.append(phase)\n",
    "\n",
    "    return amps + phases\n",
    "\n",
    "#Processing data column\n",
    "csi_processed = df['data'].apply(process_csi)\n",
    "\n",
    "#Labeling columns\n",
    "n_subcarriers = len(csi_processed.iloc[0]) // 2\n",
    "amp_cols = [f\"amp_{i}\" for i in range(1, n_subcarriers + 1)]\n",
    "phase_cols = [f\"phase_{i}\" for i in range(1, n_subcarriers + 1)]\n",
    "new_columns = amp_cols + phase_cols\n",
    "\n",
    "#Making DataFrame with amplitude and phase\n",
    "csi_df = pd.DataFrame(csi_processed.tolist(), columns=new_columns)\n",
    "\n",
    "#Concatenate with original DataFrame (without data and useless columns)\n",
    "df_final = pd.concat([df.drop(columns=['data'] + cols_to_remove), csi_df], axis=1)\n",
    "\n",
    "#Saving output file\n",
    "df_final.to_csv(str(output_file), index=False)\n",
    "\n",
    "print(f\"Processamento concluído! Arquivo salvo em: {output_file}\")\n"
   ]
  }
 ],
 "metadata": {
  "kernelspec": {
   "display_name": "venv",
   "language": "python",
   "name": "python3"
  },
  "language_info": {
   "codemirror_mode": {
    "name": "ipython",
    "version": 3
   },
   "file_extension": ".py",
   "mimetype": "text/x-python",
   "name": "python",
   "nbconvert_exporter": "python",
   "pygments_lexer": "ipython3",
   "version": "3.13.6"
  }
 },
 "nbformat": 4,
 "nbformat_minor": 2
}
