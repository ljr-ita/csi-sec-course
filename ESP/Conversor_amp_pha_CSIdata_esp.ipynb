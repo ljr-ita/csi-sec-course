{
 "cells": [
  {
   "cell_type": "markdown",
   "metadata": {},
   "source": [
    "## Extracting amplitude and phase values from CSI complex numbers"
   ]
  },
  {
   "cell_type": "markdown",
   "metadata": {},
   "source": [
    "### Using cmath library - only useful collumns"
   ]
  },
  {
   "cell_type": "code",
   "execution_count": null,
   "metadata": {},
   "outputs": [
    {
     "name": "stdout",
     "output_type": "stream",
     "text": [
      "✅ Processamento concluído! Arquivo salvo em: /media/gioliadmin/DataBase/Programas de ML e BD/SBSeg2025/csi_data_amp_pha_ext2.csv\n"
     ]
    }
   ],
   "source": [
    "import pandas as pd\n",
    "import numpy as np\n",
    "import cmath\n",
    "\n",
    "# Arquivo de entrada e saída\n",
    "input_file = \"XXXX\"\n",
    "output_file = \"YYYY\"\n",
    "\n",
    "# Colunas a remover\n",
    "cols_to_remove = [\n",
    "    \"taget_seq\", \"taget\", \"mac\", \"rate\", \"mcs\", \"cwb\",\n",
    "    \"smoothing\", \"not_sounding\", \"aggregation\", \"stbc\", \"sgi\",\n",
    "    \"ampdu_cnt\", \"ant\", \"rx_state\", \"agc_gain\", \"fft_gain\"\n",
    "]\n",
    "\n",
    "# Carregar CSV\n",
    "df = pd.read_csv(input_file)\n",
    "\n",
    "# Função para processar os dados CSI\n",
    "def process_csi(row):\n",
    "    numbers = list(map(int, row.strip(\"[]\").split(',')))\n",
    "    numbers = numbers[2:]  # ignorar primeiros 2 valores\n",
    "\n",
    "    amps, phases = [], []\n",
    "    for i in range(0, len(numbers), 2):\n",
    "        real = numbers[i]\n",
    "        imag = numbers[i + 1]\n",
    "        c = complex(real, imag)\n",
    "        amp, phase = cmath.polar(c)\n",
    "        amps.append(amp)\n",
    "        phases.append(phase)\n",
    "\n",
    "    return amps + phases\n",
    "\n",
    "# Processar coluna data\n",
    "csi_processed = df['data'].apply(process_csi)\n",
    "\n",
    "# Criar nomes das colunas\n",
    "n_subcarriers = len(csi_processed.iloc[0]) // 2\n",
    "amp_cols = [f\"amp_{i}\" for i in range(1, n_subcarriers + 1)]\n",
    "phase_cols = [f\"phase_{i}\" for i in range(1, n_subcarriers + 1)]\n",
    "new_columns = amp_cols + phase_cols\n",
    "\n",
    "# Criar DataFrame com amplitudes e fases\n",
    "csi_df = pd.DataFrame(csi_processed.tolist(), columns=new_columns)\n",
    "\n",
    "# Juntar com o DataFrame original (menos data e as colunas a remover)\n",
    "df_final = pd.concat([df.drop(columns=['data'] + cols_to_remove), csi_df], axis=1)\n",
    "\n",
    "# Salvar resultado\n",
    "df_final.to_csv(output_file, index=False)\n",
    "\n",
    "print(f\"Processamento concluído! Arquivo salvo em: {output_file}\")\n"
   ]
  }
 ],
 "metadata": {
  "kernelspec": {
   "display_name": ".venv",
   "language": "python",
   "name": "python3"
  },
  "language_info": {
   "codemirror_mode": {
    "name": "ipython",
    "version": 3
   },
   "file_extension": ".py",
   "mimetype": "text/x-python",
   "name": "python",
   "nbconvert_exporter": "python",
   "pygments_lexer": "ipython3",
   "version": "3.13.6"
  }
 },
 "nbformat": 4,
 "nbformat_minor": 2
}
