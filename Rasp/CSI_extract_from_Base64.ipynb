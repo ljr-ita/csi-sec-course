{
 "cells": [
  {
   "cell_type": "markdown",
   "id": "506ebb99",
   "metadata": {},
   "source": [
    "## Extracting CSI data from .pcap files\n",
    "\n",
    "The code below is used to convert .pcap file in .csv file"
   ]
  },
  {
   "cell_type": "code",
   "execution_count": 1,
   "id": "a962a582",
   "metadata": {},
   "outputs": [
    {
     "name": "stdout",
     "output_type": "stream",
     "text": [
      "Olá mundo!\n"
     ]
    }
   ],
   "source": [
    "print('Olá mundo!')"
   ]
  },
  {
   "cell_type": "code",
   "execution_count": 2,
   "id": "f9c760e4",
   "metadata": {},
   "outputs": [
    {
     "name": "stdout",
     "output_type": "stream",
     "text": [
      "Lendo arquivo: /media/gioliadmin/DataBase/Programas_ML_BD/SBSeg2025/Rasp/csi_test.pcap ...\n",
      "Shape do CSI: (16543, 128)\n",
      "16543 packets parsed\n",
      "Arquivo CSV gerado: csi_output2.csv\n"
     ]
    }
   ],
   "source": [
    "import numpy as np\n",
    "import pandas as pd\n",
    "from csiread import Nexmon\n",
    "\n",
    "# ========= CONFIGURAÇÕES =========\n",
    "pcap_file = \"/media/gioliadmin/DataBase/Programas_ML_BD/SBSeg2025/Rasp/csi_test.pcap\"\n",
    "csv_file  = \"csi_output2.csv\"\n",
    "chipset   = \"43455c0\"   # Raspberry Pi 4 (BCM43455c0)\n",
    "bw        = 40          # mesma usada na captura\n",
    "\n",
    "# ========= LEITURA =========\n",
    "print(f\"Lendo arquivo: {pcap_file} ...\")\n",
    "reader = Nexmon(pcap_file, chip=chipset, bw=bw)\n",
    "reader.read()\n",
    "\n",
    "csi = reader.csi   # shape esperado: (n_pacotes, n_subcarriers)\n",
    "\n",
    "print(f\"Shape do CSI: {csi.shape}\")\n",
    "\n",
    "# ========= PROCESSAMENTO =========\n",
    "amplitude = np.abs(csi)\n",
    "phase = np.angle(csi)\n",
    "\n",
    "# cada linha = 1 pacote, colunas = subportadoras\n",
    "df_amp = pd.DataFrame(amplitude)\n",
    "df_phase = pd.DataFrame(phase)\n",
    "\n",
    "# renomear colunas\n",
    "df_amp.columns   = [f\"subcarrier_{i}\"       for i in range(df_amp.shape[1])]\n",
    "df_phase.columns = [f\"subcarrier_{i}_phase\" for i in range(df_phase.shape[1])]\n",
    "\n",
    "# Concatenar amplitude + fase\n",
    "df_out = pd.concat([df_amp, df_phase], axis=1)\n",
    "\n",
    "# ========= EXPORTAÇÃO =========\n",
    "df_out.to_csv(csv_file, index=False)\n",
    "print(f\"Arquivo CSV gerado: {csv_file}\")\n"
   ]
  },
  {
   "cell_type": "markdown",
   "id": "9e5773d5",
   "metadata": {},
   "source": [
    "### Script usando `csiread` com `pandas` (com leitura em blocos para não explodir memória)"
   ]
  },
  {
   "cell_type": "code",
   "execution_count": 2,
   "id": "a59a716b",
   "metadata": {},
   "outputs": [
    {
     "name": "stdout",
     "output_type": "stream",
     "text": [
      "[csiread] Lendo arquivo: /media/gioliadmin/DataBase/Programas_ML_BD/SBSeg2025/Rasp/cap1_rpi1.pcap\n",
      "5549 packets parsed\n",
      "[csiread] Total de pacotes: 5549\n",
      "[csiread] Processando pacotes 0 a 999\n",
      "[csiread] Processando pacotes 1000 a 1999\n",
      "[csiread] Processando pacotes 2000 a 2999\n",
      "[csiread] Processando pacotes 3000 a 3999\n",
      "[csiread] Processando pacotes 4000 a 4999\n",
      "[csiread] Processando pacotes 5000 a 5548\n",
      "[csiread] Shape final: (5549, 256)\n",
      "[csiread] CSV gerado: csi_output_csiread.csv\n"
     ]
    }
   ],
   "source": [
    "\n",
    "import numpy as np\n",
    "import pandas as pd\n",
    "from csiread import Nexmon\n",
    "\n",
    "# ========= CONFIGURAÇÕES =========\n",
    "pcap_file = \"/media/gioliadmin/DataBase/Programas_ML_BD/SBSeg2025/Rasp/cap1_rpi1.pcap\"   # entrada\n",
    "csv_file  = \"csi_output_csiread.csv\"  # saída\n",
    "chipset   = \"43455c0\"            # Raspberry Pi 4 (BCM43455c0)\n",
    "bw        = 40                   # largura de banda (20/40 MHz)\n",
    "\n",
    "# ========= LEITURA =========\n",
    "print(f\"[csiread] Lendo arquivo: {pcap_file}\")\n",
    "reader = Nexmon(pcap_file, chip=chipset, bw=bw)\n",
    "\n",
    "# Primeiro, leia todo o arquivo para obter o número total de pacotes\n",
    "reader.read()\n",
    "total_packets = len(reader.csi)\n",
    "print(f\"[csiread] Total de pacotes: {total_packets}\")\n",
    "\n",
    "# Para evitar explodir a RAM, leia em blocos\n",
    "batch_size = 1000\n",
    "all_batches = []\n",
    "\n",
    "for i in range(0, total_packets, batch_size):\n",
    "    end_idx = min(i + batch_size, total_packets)\n",
    "    print(f\"[csiread] Processando pacotes {i} a {end_idx-1}\")\n",
    "    \n",
    "    # Extrair dados do lote atual\n",
    "    csi_batch = reader.csi[i:end_idx]\n",
    "    \n",
    "    # Verificar se há dados válidos\n",
    "    if csi_batch.size == 0:\n",
    "        continue\n",
    "        \n",
    "    # Processar amplitude e fase\n",
    "    if len(csi_batch.shape) == 3:  # (pacotes, subcarriers, antenas)\n",
    "        amplitude = np.abs(csi_batch[:, :, 0])   # antena 0\n",
    "        phase = np.angle(csi_batch[:, :, 0])\n",
    "    else:  # (pacotes, subcarriers)\n",
    "        amplitude = np.abs(csi_batch)\n",
    "        phase = np.angle(csi_batch)\n",
    "\n",
    "    # Criar DataFrames para o lote\n",
    "    df_amp = pd.DataFrame(amplitude, columns=[f\"subcarrier_{j}\" for j in range(amplitude.shape[1])])\n",
    "    df_phase = pd.DataFrame(phase, columns=[f\"subcarrier_{j}_phase\" for j in range(phase.shape[1])])\n",
    "\n",
    "    all_batches.append(pd.concat([df_amp, df_phase], axis=1))\n",
    "\n",
    "# Concatenar todos os lotes\n",
    "if all_batches:\n",
    "    df_out = pd.concat(all_batches, ignore_index=True)\n",
    "    print(f\"[csiread] Shape final: {df_out.shape}\")\n",
    "    \n",
    "    # ========= EXPORTAÇÃO =========\n",
    "    df_out.to_csv(csv_file, index=False)\n",
    "    print(f\"[csiread] CSV gerado: {csv_file}\")\n",
    "else:\n",
    "    print(\"[csiread] Erro: Nenhum dado foi processado\")\n"
   ]
  },
  {
   "cell_type": "markdown",
   "id": "6f44f04c",
   "metadata": {},
   "source": [
    "### Script usando `csiread` com `numpy`"
   ]
  },
  {
   "cell_type": "code",
   "execution_count": 3,
   "id": "bf553e9c",
   "metadata": {},
   "outputs": [
    {
     "name": "stdout",
     "output_type": "stream",
     "text": [
      "[csiread] Lendo arquivo: /media/gioliadmin/DataBase/Programas_ML_BD/SBSeg2025/Rasp/cap1_rpi1.pcap\n",
      "[csiread] Total de pacotes: 5549\n",
      "[csiread] Processando pacotes 0 a 999\n",
      "5549 packets parsed\n",
      "[csiread] Processando pacotes 1000 a 1999\n",
      "[csiread] Processando pacotes 2000 a 2999\n",
      "[csiread] Processando pacotes 3000 a 3999\n",
      "[csiread] Processando pacotes 4000 a 4999\n",
      "[csiread] Processando pacotes 5000 a 5548\n",
      "[csiread] Shape final: (5549, 256)\n",
      "[csiread] CSV gerado: csi_output_csiread2.csv\n",
      "[csiread] Dados salvos: 5549 pacotes x 256 colunas\n"
     ]
    }
   ],
   "source": [
    "import numpy as np\n",
    "from csiread import Nexmon\n",
    "import csv\n",
    "\n",
    "# ========= CONFIGURAÇÕES =========\n",
    "pcap_file = \"/media/gioliadmin/DataBase/Programas_ML_BD/SBSeg2025/Rasp/cap1_rpi1.pcap\"   # entrada\n",
    "csv_file  = \"csi_output_csiread2.csv\"  # saída\n",
    "chipset   = \"43455c0\"            # Raspberry Pi 4 (BCM43455c0)\n",
    "bw        = 40                   # largura de banda (20/40 MHz)\n",
    "\n",
    "# ========= LEITURA =========\n",
    "print(f\"[csiread] Lendo arquivo: {pcap_file}\")\n",
    "reader = Nexmon(pcap_file, chip=chipset, bw=bw)\n",
    "\n",
    "# Primeiro, leia todo o arquivo para obter o número total de pacotes\n",
    "reader.read()\n",
    "total_packets = len(reader.csi)\n",
    "print(f\"[csiread] Total de pacotes: {total_packets}\")\n",
    "\n",
    "# Para evitar explodir a RAM, leia em blocos\n",
    "batch_size = 1000\n",
    "all_data = []\n",
    "\n",
    "for i in range(0, total_packets, batch_size):\n",
    "    end_idx = min(i + batch_size, total_packets)\n",
    "    print(f\"[csiread] Processando pacotes {i} a {end_idx-1}\")\n",
    "    \n",
    "    # Extrair dados do lote atual\n",
    "    csi_batch = reader.csi[i:end_idx]\n",
    "    \n",
    "    # Verificar se há dados válidos\n",
    "    if csi_batch.size == 0:\n",
    "        continue\n",
    "        \n",
    "    # Processar amplitude e fase usando apenas numpy\n",
    "    if len(csi_batch.shape) == 3:  # (pacotes, subcarriers, antenas)\n",
    "        amplitude = np.abs(csi_batch[:, :, 0])   # antena 0\n",
    "        phase = np.angle(csi_batch[:, :, 0])\n",
    "    else:  # (pacotes, subcarriers)\n",
    "        amplitude = np.abs(csi_batch)\n",
    "        phase = np.angle(csi_batch)\n",
    "\n",
    "    # Concatenar amplitude + fase horizontalmente usando numpy\n",
    "    batch_data = np.hstack([amplitude, phase])\n",
    "    all_data.append(batch_data)\n",
    "\n",
    "# Concatenar todos os lotes verticalmente usando numpy\n",
    "if all_data:\n",
    "    final_data = np.vstack(all_data)\n",
    "    print(f\"[csiread] Shape final: {final_data.shape}\")\n",
    "    \n",
    "    # ========= EXPORTAÇÃO =========\n",
    "    # Criar nomes das colunas\n",
    "    n_subcarriers = final_data.shape[1] // 2\n",
    "    columns = [f\"subcarrier_{i}\" for i in range(n_subcarriers)] + [f\"subcarrier_{i}_phase\" for i in range(n_subcarriers)]\n",
    "    \n",
    "    # Exportar para CSV usando csv nativo (mais rápido que pandas)\n",
    "    with open(csv_file, 'w', newline='') as f:\n",
    "        writer = csv.writer(f)\n",
    "        writer.writerow(columns)  # Cabeçalho\n",
    "        writer.writerows(final_data)  # Dados\n",
    "    \n",
    "    print(f\"[csiread] CSV gerado: {csv_file}\")\n",
    "    print(f\"[csiread] Dados salvos: {final_data.shape[0]} pacotes x {final_data.shape[1]} colunas\")\n",
    "else:\n",
    "    print(\"[csiread] Erro: Nenhum dado foi processado\")\n"
   ]
  }
 ],
 "metadata": {
  "kernelspec": {
   "display_name": "venv",
   "language": "python",
   "name": "python3"
  },
  "language_info": {
   "codemirror_mode": {
    "name": "ipython",
    "version": 3
   },
   "file_extension": ".py",
   "mimetype": "text/x-python",
   "name": "python",
   "nbconvert_exporter": "python",
   "pygments_lexer": "ipython3",
   "version": "3.13.6"
  }
 },
 "nbformat": 4,
 "nbformat_minor": 5
}
