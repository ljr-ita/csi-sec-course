{
 "cells": [
  {
   "cell_type": "markdown",
   "id": "506ebb99",
   "metadata": {},
   "source": [
    "## Extracting CSI data from .pcap files by Nexmon\n",
    "\n",
    "The code below is used to convert .pcap file in .csv file"
   ]
  },
  {
   "cell_type": "code",
   "execution_count": null,
   "id": "f9c760e4",
   "metadata": {},
   "outputs": [
    {
     "name": "stdout",
     "output_type": "stream",
     "text": [
      "Lendo arquivo: /media/gioliadmin/DataBase/Programas_ML_BD/SBSeg2025/Rasp/csi_test.pcap ...\n",
      "Shape do CSI: (16543, 128)\n",
      "16543 packets parsed\n",
      "Arquivo CSV gerado: csi_output2.csv\n"
     ]
    }
   ],
   "source": [
    "import numpy as np\n",
    "import pandas as pd\n",
    "from csiread import Nexmon\n",
    "\n",
    "#Settings: input, output, chipset and bw\n",
    "pcap_file = \"XXXX\"\n",
    "csv_file  = \"YYYY\"\n",
    "chipset   = \"43455c0\"   #Raspberry Pi 4 (BCM43455c0)\n",
    "bw        = 40          #Deve ser a mesma usada na captura\n",
    "\n",
    "#Reading .pcap file with Nexmon\n",
    "print(f\"Lendo arquivo: {pcap_file} ...\")\n",
    "reader = Nexmon(pcap_file, chip=chipset, bw=bw)\n",
    "reader.read()\n",
    "\n",
    "csi = reader.csi   #Expected shape: (n_packets, n_subcarriers)\n",
    "\n",
    "print(f\"Shape do CSI: {csi.shape}\")\n",
    "\n",
    "#Conversion to amplitude and phase\n",
    "amplitude = np.abs(csi)\n",
    "phase = np.angle(csi)\n",
    "\n",
    "#Each line is equal to one packet and each column is a subcarrier (amplitude and phase)\n",
    "df_amp = pd.DataFrame(amplitude)\n",
    "df_phase = pd.DataFrame(phase)\n",
    "\n",
    "#Rename columns\n",
    "df_amp.columns   = [f\"subcarrier_{i}\"       for i in range(df_amp.shape[1])]\n",
    "df_phase.columns = [f\"subcarrier_{i}_phase\" for i in range(df_phase.shape[1])]\n",
    "\n",
    "#Concatenate: amplitude + phase\n",
    "df_out = pd.concat([df_amp, df_phase], axis=1)\n",
    "\n",
    "#Exporting to .csv file (output file)\n",
    "df_out.to_csv(csv_file, index=False)\n",
    "print(f\"Arquivo CSV gerado: {csv_file}\")\n"
   ]
  }
 ],
 "metadata": {
  "kernelspec": {
   "display_name": "venv",
   "language": "python",
   "name": "python3"
  },
  "language_info": {
   "codemirror_mode": {
    "name": "ipython",
    "version": 3
   },
   "file_extension": ".py",
   "mimetype": "text/x-python",
   "name": "python",
   "nbconvert_exporter": "python",
   "pygments_lexer": "ipython3",
   "version": "3.13.6"
  }
 },
 "nbformat": 4,
 "nbformat_minor": 5
}
