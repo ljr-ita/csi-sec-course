{
 "cells": [
  {
   "cell_type": "markdown",
   "id": "506ebb99",
   "metadata": {},
   "source": [
    "## Extracting CSI data from .pcap files by Nexmon\n",
    "\n",
    "The code below is used to convert .pcap file in .csv file"
   ]
  },
  {
   "cell_type": "code",
   "execution_count": null,
   "id": "665b86a7",
   "metadata": {},
   "outputs": [],
   "source": [
    "import numpy as np\n",
    "import pandas as pd\n",
    "from csiread import Nexmon\n",
    "from pathlib import Path\n",
    "\n",
    "# Configuração dos arquivos usando Path\n",
    "# Defina apenas o nome do arquivo de entrada (sem o caminho completo)\n",
    "input_filename = \"Rasp/csi_test.pcap\"\n",
    "output_filename = \"Rasp/csi_output.csv\"\n",
    "\n",
    "# Obtém o diretório atual do script\n",
    "current_dir = Path.cwd()\n",
    "\n",
    "# Cria os caminhos completos para os arquivos\n",
    "pcap_file = current_dir / input_filename\n",
    "csv_file = current_dir / output_filename\n",
    "\n",
    "print(f\"Arquivo de entrada: {pcap_file}\")\n",
    "print(f\"Arquivo de saída: {csv_file}\")\n",
    "print(f\"Diretório atual: {current_dir}\")\n",
    "\n",
    "# Verifica se o arquivo de entrada existe\n",
    "if not pcap_file.exists():\n",
    "    print(f\"ERRO: Arquivo {input_filename} não encontrado no diretório atual!\")\n",
    "    print(\"Arquivos disponíveis no diretório:\")\n",
    "    for file in current_dir.glob(\"*.pcap\"):\n",
    "        print(f\"  - {file.name}\")\n",
    "    exit(1)\n",
    "else:\n",
    "    print(f\"✓ Arquivo de entrada encontrado: {input_filename}\")\n",
    "\n",
    "#Settings: chipset and bw\n",
    "chipset   = \"43455c0\"   #Raspberry Pi 4 (BCM43455c0)\n",
    "bw        = 40          #It must be the same used in the capture\n",
    "\n",
    "#Reading .pcap file with Nexmon\n",
    "print(f\"Lendo arquivo: {pcap_file} ...\")\n",
    "# Converte Path para string para compatibilidade com csiread\n",
    "reader = Nexmon(str(pcap_file), chip=chipset, bw=bw)\n",
    "reader.read()\n",
    "\n",
    "csi = reader.csi   #Expected shape: (n_packets, n_subcarriers)\n",
    "\n",
    "print(f\"Shape do CSI: {csi.shape}\")\n",
    "\n",
    "#Conversion to amplitude and phase\n",
    "amplitude = np.abs(csi)\n",
    "phase = np.angle(csi)\n",
    "\n",
    "#Each line is equal to one packet and each column is a subcarrier (amplitude and phase)\n",
    "df_amp = pd.DataFrame(amplitude)\n",
    "df_phase = pd.DataFrame(phase)\n",
    "\n",
    "#Rename columns\n",
    "df_amp.columns   = [f\"subcarrier_{i}\"       for i in range(df_amp.shape[1])]\n",
    "df_phase.columns = [f\"subcarrier_{i}_phase\" for i in range(df_phase.shape[1])]\n",
    "\n",
    "#Concatenate: amplitude + phase\n",
    "df_out = pd.concat([df_amp, df_phase], axis=1)\n",
    "\n",
    "#Exporting to .csv file (output file)\n",
    "# Converte Path para string para compatibilidade com pandas\n",
    "df_out.to_csv(str(csv_file), index=False)\n",
    "print(f\"Arquivo CSV gerado: {csv_file}\")\n"
   ]
  }
 ],
 "metadata": {
  "kernelspec": {
   "display_name": "venv",
   "language": "python",
   "name": "python3"
  },
  "language_info": {
   "codemirror_mode": {
    "name": "ipython",
    "version": 3
   },
   "file_extension": ".py",
   "mimetype": "text/x-python",
   "name": "python",
   "nbconvert_exporter": "python",
   "pygments_lexer": "ipython3",
   "version": "3.13.6"
  }
 },
 "nbformat": 4,
 "nbformat_minor": 5
}
